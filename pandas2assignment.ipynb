{
 "cells": [
  {
   "cell_type": "code",
   "execution_count": null,
   "id": "7f301b89-1527-453b-9827-ae0739f935f9",
   "metadata": {},
   "outputs": [],
   "source": [
    "Q1. List any five functions of the pandas library with execution."
   ]
  },
  {
   "cell_type": "code",
   "execution_count": 6,
   "id": "31e6d547-88cc-4f3f-9267-aa94ddbd23a5",
   "metadata": {},
   "outputs": [
    {
     "data": {
      "text/html": [
       "<div>\n",
       "<style scoped>\n",
       "    .dataframe tbody tr th:only-of-type {\n",
       "        vertical-align: middle;\n",
       "    }\n",
       "\n",
       "    .dataframe tbody tr th {\n",
       "        vertical-align: top;\n",
       "    }\n",
       "\n",
       "    .dataframe thead th {\n",
       "        text-align: right;\n",
       "    }\n",
       "</style>\n",
       "<table border=\"1\" class=\"dataframe\">\n",
       "  <thead>\n",
       "    <tr style=\"text-align: right;\">\n",
       "      <th></th>\n",
       "      <th>PassengerId</th>\n",
       "      <th>Survived</th>\n",
       "      <th>Pclass</th>\n",
       "      <th>Name</th>\n",
       "      <th>Sex</th>\n",
       "      <th>Age</th>\n",
       "      <th>SibSp</th>\n",
       "      <th>Parch</th>\n",
       "      <th>Ticket</th>\n",
       "      <th>Fare</th>\n",
       "      <th>Cabin</th>\n",
       "      <th>Embarked</th>\n",
       "    </tr>\n",
       "  </thead>\n",
       "  <tbody>\n",
       "    <tr>\n",
       "      <th>886</th>\n",
       "      <td>887</td>\n",
       "      <td>0</td>\n",
       "      <td>2</td>\n",
       "      <td>Montvila, Rev. Juozas</td>\n",
       "      <td>male</td>\n",
       "      <td>27.0</td>\n",
       "      <td>0</td>\n",
       "      <td>0</td>\n",
       "      <td>211536</td>\n",
       "      <td>13.00</td>\n",
       "      <td>NaN</td>\n",
       "      <td>S</td>\n",
       "    </tr>\n",
       "    <tr>\n",
       "      <th>887</th>\n",
       "      <td>888</td>\n",
       "      <td>1</td>\n",
       "      <td>1</td>\n",
       "      <td>Graham, Miss. Margaret Edith</td>\n",
       "      <td>female</td>\n",
       "      <td>19.0</td>\n",
       "      <td>0</td>\n",
       "      <td>0</td>\n",
       "      <td>112053</td>\n",
       "      <td>30.00</td>\n",
       "      <td>B42</td>\n",
       "      <td>S</td>\n",
       "    </tr>\n",
       "    <tr>\n",
       "      <th>888</th>\n",
       "      <td>889</td>\n",
       "      <td>0</td>\n",
       "      <td>3</td>\n",
       "      <td>Johnston, Miss. Catherine Helen \"Carrie\"</td>\n",
       "      <td>female</td>\n",
       "      <td>NaN</td>\n",
       "      <td>1</td>\n",
       "      <td>2</td>\n",
       "      <td>W./C. 6607</td>\n",
       "      <td>23.45</td>\n",
       "      <td>NaN</td>\n",
       "      <td>S</td>\n",
       "    </tr>\n",
       "    <tr>\n",
       "      <th>889</th>\n",
       "      <td>890</td>\n",
       "      <td>1</td>\n",
       "      <td>1</td>\n",
       "      <td>Behr, Mr. Karl Howell</td>\n",
       "      <td>male</td>\n",
       "      <td>26.0</td>\n",
       "      <td>0</td>\n",
       "      <td>0</td>\n",
       "      <td>111369</td>\n",
       "      <td>30.00</td>\n",
       "      <td>C148</td>\n",
       "      <td>C</td>\n",
       "    </tr>\n",
       "    <tr>\n",
       "      <th>890</th>\n",
       "      <td>891</td>\n",
       "      <td>0</td>\n",
       "      <td>3</td>\n",
       "      <td>Dooley, Mr. Patrick</td>\n",
       "      <td>male</td>\n",
       "      <td>32.0</td>\n",
       "      <td>0</td>\n",
       "      <td>0</td>\n",
       "      <td>370376</td>\n",
       "      <td>7.75</td>\n",
       "      <td>NaN</td>\n",
       "      <td>Q</td>\n",
       "    </tr>\n",
       "  </tbody>\n",
       "</table>\n",
       "</div>"
      ],
      "text/plain": [
       "     PassengerId  Survived  Pclass                                      Name  \\\n",
       "886          887         0       2                     Montvila, Rev. Juozas   \n",
       "887          888         1       1              Graham, Miss. Margaret Edith   \n",
       "888          889         0       3  Johnston, Miss. Catherine Helen \"Carrie\"   \n",
       "889          890         1       1                     Behr, Mr. Karl Howell   \n",
       "890          891         0       3                       Dooley, Mr. Patrick   \n",
       "\n",
       "        Sex   Age  SibSp  Parch      Ticket   Fare Cabin Embarked  \n",
       "886    male  27.0      0      0      211536  13.00   NaN        S  \n",
       "887  female  19.0      0      0      112053  30.00   B42        S  \n",
       "888  female   NaN      1      2  W./C. 6607  23.45   NaN        S  \n",
       "889    male  26.0      0      0      111369  30.00  C148        C  \n",
       "890    male  32.0      0      0      370376   7.75   NaN        Q  "
      ]
     },
     "execution_count": 6,
     "metadata": {},
     "output_type": "execute_result"
    }
   ],
   "source": [
    "import  pandas as pd\n",
    "df = pd.read_csv(\"https://raw.githubusercontent.com/datasciencedojo/datasets/master/titanic.csv\")\n",
    "df.head()"
   ]
  },
  {
   "cell_type": "code",
   "execution_count": 5,
   "id": "960b7ff8-3fcd-4f7a-94d6-ffef17eff889",
   "metadata": {},
   "outputs": [
    {
     "data": {
      "text/html": [
       "<div>\n",
       "<style scoped>\n",
       "    .dataframe tbody tr th:only-of-type {\n",
       "        vertical-align: middle;\n",
       "    }\n",
       "\n",
       "    .dataframe tbody tr th {\n",
       "        vertical-align: top;\n",
       "    }\n",
       "\n",
       "    .dataframe thead th {\n",
       "        text-align: right;\n",
       "    }\n",
       "</style>\n",
       "<table border=\"1\" class=\"dataframe\">\n",
       "  <thead>\n",
       "    <tr style=\"text-align: right;\">\n",
       "      <th></th>\n",
       "      <th>PassengerId</th>\n",
       "      <th>Survived</th>\n",
       "      <th>Pclass</th>\n",
       "      <th>Name</th>\n",
       "      <th>Sex</th>\n",
       "      <th>Age</th>\n",
       "      <th>SibSp</th>\n",
       "      <th>Parch</th>\n",
       "      <th>Ticket</th>\n",
       "      <th>Fare</th>\n",
       "      <th>Cabin</th>\n",
       "      <th>Embarked</th>\n",
       "    </tr>\n",
       "  </thead>\n",
       "  <tbody>\n",
       "    <tr>\n",
       "      <th>886</th>\n",
       "      <td>887</td>\n",
       "      <td>0</td>\n",
       "      <td>2</td>\n",
       "      <td>Montvila, Rev. Juozas</td>\n",
       "      <td>male</td>\n",
       "      <td>27.0</td>\n",
       "      <td>0</td>\n",
       "      <td>0</td>\n",
       "      <td>211536</td>\n",
       "      <td>13.00</td>\n",
       "      <td>NaN</td>\n",
       "      <td>S</td>\n",
       "    </tr>\n",
       "    <tr>\n",
       "      <th>887</th>\n",
       "      <td>888</td>\n",
       "      <td>1</td>\n",
       "      <td>1</td>\n",
       "      <td>Graham, Miss. Margaret Edith</td>\n",
       "      <td>female</td>\n",
       "      <td>19.0</td>\n",
       "      <td>0</td>\n",
       "      <td>0</td>\n",
       "      <td>112053</td>\n",
       "      <td>30.00</td>\n",
       "      <td>B42</td>\n",
       "      <td>S</td>\n",
       "    </tr>\n",
       "    <tr>\n",
       "      <th>888</th>\n",
       "      <td>889</td>\n",
       "      <td>0</td>\n",
       "      <td>3</td>\n",
       "      <td>Johnston, Miss. Catherine Helen \"Carrie\"</td>\n",
       "      <td>female</td>\n",
       "      <td>NaN</td>\n",
       "      <td>1</td>\n",
       "      <td>2</td>\n",
       "      <td>W./C. 6607</td>\n",
       "      <td>23.45</td>\n",
       "      <td>NaN</td>\n",
       "      <td>S</td>\n",
       "    </tr>\n",
       "    <tr>\n",
       "      <th>889</th>\n",
       "      <td>890</td>\n",
       "      <td>1</td>\n",
       "      <td>1</td>\n",
       "      <td>Behr, Mr. Karl Howell</td>\n",
       "      <td>male</td>\n",
       "      <td>26.0</td>\n",
       "      <td>0</td>\n",
       "      <td>0</td>\n",
       "      <td>111369</td>\n",
       "      <td>30.00</td>\n",
       "      <td>C148</td>\n",
       "      <td>C</td>\n",
       "    </tr>\n",
       "    <tr>\n",
       "      <th>890</th>\n",
       "      <td>891</td>\n",
       "      <td>0</td>\n",
       "      <td>3</td>\n",
       "      <td>Dooley, Mr. Patrick</td>\n",
       "      <td>male</td>\n",
       "      <td>32.0</td>\n",
       "      <td>0</td>\n",
       "      <td>0</td>\n",
       "      <td>370376</td>\n",
       "      <td>7.75</td>\n",
       "      <td>NaN</td>\n",
       "      <td>Q</td>\n",
       "    </tr>\n",
       "  </tbody>\n",
       "</table>\n",
       "</div>"
      ],
      "text/plain": [
       "     PassengerId  Survived  Pclass                                      Name  \\\n",
       "886          887         0       2                     Montvila, Rev. Juozas   \n",
       "887          888         1       1              Graham, Miss. Margaret Edith   \n",
       "888          889         0       3  Johnston, Miss. Catherine Helen \"Carrie\"   \n",
       "889          890         1       1                     Behr, Mr. Karl Howell   \n",
       "890          891         0       3                       Dooley, Mr. Patrick   \n",
       "\n",
       "        Sex   Age  SibSp  Parch      Ticket   Fare Cabin Embarked  \n",
       "886    male  27.0      0      0      211536  13.00   NaN        S  \n",
       "887  female  19.0      0      0      112053  30.00   B42        S  \n",
       "888  female   NaN      1      2  W./C. 6607  23.45   NaN        S  \n",
       "889    male  26.0      0      0      111369  30.00  C148        C  \n",
       "890    male  32.0      0      0      370376   7.75   NaN        Q  "
      ]
     },
     "execution_count": 5,
     "metadata": {},
     "output_type": "execute_result"
    }
   ],
   "source": [
    "df.tail()"
   ]
  },
  {
   "cell_type": "code",
   "execution_count": 7,
   "id": "e334f0ea-f487-4f38-9310-61624b2c428b",
   "metadata": {},
   "outputs": [
    {
     "data": {
      "text/html": [
       "<div>\n",
       "<style scoped>\n",
       "    .dataframe tbody tr th:only-of-type {\n",
       "        vertical-align: middle;\n",
       "    }\n",
       "\n",
       "    .dataframe tbody tr th {\n",
       "        vertical-align: top;\n",
       "    }\n",
       "\n",
       "    .dataframe thead th {\n",
       "        text-align: right;\n",
       "    }\n",
       "</style>\n",
       "<table border=\"1\" class=\"dataframe\">\n",
       "  <thead>\n",
       "    <tr style=\"text-align: right;\">\n",
       "      <th></th>\n",
       "      <th>PassengerId</th>\n",
       "      <th>Survived</th>\n",
       "      <th>Pclass</th>\n",
       "      <th>Age</th>\n",
       "      <th>SibSp</th>\n",
       "      <th>Parch</th>\n",
       "      <th>Fare</th>\n",
       "    </tr>\n",
       "  </thead>\n",
       "  <tbody>\n",
       "    <tr>\n",
       "      <th>count</th>\n",
       "      <td>891.000000</td>\n",
       "      <td>891.000000</td>\n",
       "      <td>891.000000</td>\n",
       "      <td>714.000000</td>\n",
       "      <td>891.000000</td>\n",
       "      <td>891.000000</td>\n",
       "      <td>891.000000</td>\n",
       "    </tr>\n",
       "    <tr>\n",
       "      <th>mean</th>\n",
       "      <td>446.000000</td>\n",
       "      <td>0.383838</td>\n",
       "      <td>2.308642</td>\n",
       "      <td>29.699118</td>\n",
       "      <td>0.523008</td>\n",
       "      <td>0.381594</td>\n",
       "      <td>32.204208</td>\n",
       "    </tr>\n",
       "    <tr>\n",
       "      <th>std</th>\n",
       "      <td>257.353842</td>\n",
       "      <td>0.486592</td>\n",
       "      <td>0.836071</td>\n",
       "      <td>14.526497</td>\n",
       "      <td>1.102743</td>\n",
       "      <td>0.806057</td>\n",
       "      <td>49.693429</td>\n",
       "    </tr>\n",
       "    <tr>\n",
       "      <th>min</th>\n",
       "      <td>1.000000</td>\n",
       "      <td>0.000000</td>\n",
       "      <td>1.000000</td>\n",
       "      <td>0.420000</td>\n",
       "      <td>0.000000</td>\n",
       "      <td>0.000000</td>\n",
       "      <td>0.000000</td>\n",
       "    </tr>\n",
       "    <tr>\n",
       "      <th>25%</th>\n",
       "      <td>223.500000</td>\n",
       "      <td>0.000000</td>\n",
       "      <td>2.000000</td>\n",
       "      <td>20.125000</td>\n",
       "      <td>0.000000</td>\n",
       "      <td>0.000000</td>\n",
       "      <td>7.910400</td>\n",
       "    </tr>\n",
       "    <tr>\n",
       "      <th>50%</th>\n",
       "      <td>446.000000</td>\n",
       "      <td>0.000000</td>\n",
       "      <td>3.000000</td>\n",
       "      <td>28.000000</td>\n",
       "      <td>0.000000</td>\n",
       "      <td>0.000000</td>\n",
       "      <td>14.454200</td>\n",
       "    </tr>\n",
       "    <tr>\n",
       "      <th>75%</th>\n",
       "      <td>668.500000</td>\n",
       "      <td>1.000000</td>\n",
       "      <td>3.000000</td>\n",
       "      <td>38.000000</td>\n",
       "      <td>1.000000</td>\n",
       "      <td>0.000000</td>\n",
       "      <td>31.000000</td>\n",
       "    </tr>\n",
       "    <tr>\n",
       "      <th>max</th>\n",
       "      <td>891.000000</td>\n",
       "      <td>1.000000</td>\n",
       "      <td>3.000000</td>\n",
       "      <td>80.000000</td>\n",
       "      <td>8.000000</td>\n",
       "      <td>6.000000</td>\n",
       "      <td>512.329200</td>\n",
       "    </tr>\n",
       "  </tbody>\n",
       "</table>\n",
       "</div>"
      ],
      "text/plain": [
       "       PassengerId    Survived      Pclass         Age       SibSp  \\\n",
       "count   891.000000  891.000000  891.000000  714.000000  891.000000   \n",
       "mean    446.000000    0.383838    2.308642   29.699118    0.523008   \n",
       "std     257.353842    0.486592    0.836071   14.526497    1.102743   \n",
       "min       1.000000    0.000000    1.000000    0.420000    0.000000   \n",
       "25%     223.500000    0.000000    2.000000   20.125000    0.000000   \n",
       "50%     446.000000    0.000000    3.000000   28.000000    0.000000   \n",
       "75%     668.500000    1.000000    3.000000   38.000000    1.000000   \n",
       "max     891.000000    1.000000    3.000000   80.000000    8.000000   \n",
       "\n",
       "            Parch        Fare  \n",
       "count  891.000000  891.000000  \n",
       "mean     0.381594   32.204208  \n",
       "std      0.806057   49.693429  \n",
       "min      0.000000    0.000000  \n",
       "25%      0.000000    7.910400  \n",
       "50%      0.000000   14.454200  \n",
       "75%      0.000000   31.000000  \n",
       "max      6.000000  512.329200  "
      ]
     },
     "execution_count": 7,
     "metadata": {},
     "output_type": "execute_result"
    }
   ],
   "source": [
    "df.describe()"
   ]
  },
  {
   "cell_type": "code",
   "execution_count": 8,
   "id": "a3fc3dab-d0be-4567-b127-a93329a2ce2c",
   "metadata": {},
   "outputs": [
    {
     "data": {
      "text/plain": [
       "array([nan, 'C85', 'C123', 'E46', 'G6', 'C103', 'D56', 'A6',\n",
       "       'C23 C25 C27', 'B78', 'D33', 'B30', 'C52', 'B28', 'C83', 'F33',\n",
       "       'F G73', 'E31', 'A5', 'D10 D12', 'D26', 'C110', 'B58 B60', 'E101',\n",
       "       'F E69', 'D47', 'B86', 'F2', 'C2', 'E33', 'B19', 'A7', 'C49', 'F4',\n",
       "       'A32', 'B4', 'B80', 'A31', 'D36', 'D15', 'C93', 'C78', 'D35',\n",
       "       'C87', 'B77', 'E67', 'B94', 'C125', 'C99', 'C118', 'D7', 'A19',\n",
       "       'B49', 'D', 'C22 C26', 'C106', 'C65', 'E36', 'C54',\n",
       "       'B57 B59 B63 B66', 'C7', 'E34', 'C32', 'B18', 'C124', 'C91', 'E40',\n",
       "       'T', 'C128', 'D37', 'B35', 'E50', 'C82', 'B96 B98', 'E10', 'E44',\n",
       "       'A34', 'C104', 'C111', 'C92', 'E38', 'D21', 'E12', 'E63', 'A14',\n",
       "       'B37', 'C30', 'D20', 'B79', 'E25', 'D46', 'B73', 'C95', 'B38',\n",
       "       'B39', 'B22', 'C86', 'C70', 'A16', 'C101', 'C68', 'A10', 'E68',\n",
       "       'B41', 'A20', 'D19', 'D50', 'D9', 'A23', 'B50', 'A26', 'D48',\n",
       "       'E58', 'C126', 'B71', 'B51 B53 B55', 'D49', 'B5', 'B20', 'F G63',\n",
       "       'C62 C64', 'E24', 'C90', 'C45', 'E8', 'B101', 'D45', 'C46', 'D30',\n",
       "       'E121', 'D11', 'E77', 'F38', 'B3', 'D6', 'B82 B84', 'D17', 'A36',\n",
       "       'B102', 'B69', 'E49', 'C47', 'D28', 'E17', 'A24', 'C50', 'B42',\n",
       "       'C148'], dtype=object)"
      ]
     },
     "execution_count": 8,
     "metadata": {},
     "output_type": "execute_result"
    }
   ],
   "source": [
    "pd.Categorical(df['Pclass'])\n",
    "df['Cabin'].unique()"
   ]
  },
  {
   "cell_type": "code",
   "execution_count": null,
   "id": "c8debcfe-a51b-436a-b65d-8d375b347cc3",
   "metadata": {},
   "outputs": [],
   "source": [
    "Q2. Given a Pandas DataFrame df with columns 'A', 'B', and 'C', write a Python function to re-index the\n",
    "DataFrame with a new index that starts from 1 and increments by 2 for each row."
   ]
  },
  {
   "cell_type": "code",
   "execution_count": 10,
   "id": "2e915c0e-0edf-4b42-8955-34b68534a8ce",
   "metadata": {},
   "outputs": [
    {
     "name": "stdout",
     "output_type": "stream",
     "text": [
      "    A   B   C\n",
      "1  10  40  70\n",
      "3  20  50  80\n",
      "5  30  60  90\n"
     ]
    }
   ],
   "source": [
    "import pandas as pd\n",
    "\n",
    "def reindex_dataframe(df):\n",
    "    new_index = pd.RangeIndex(1,2*len(df)+1,2)\n",
    "    df.index = new_index\n",
    "    return df\n",
    "\n",
    "data = {'A': [10, 20, 30], 'B': [40, 50, 60], 'C': [70, 80, 90]}\n",
    "df = pd.DataFrame(data)\n",
    "\n",
    "reindexed_df = reindex_dataframe(df)\n",
    "print(reindexed_df)"
   ]
  },
  {
   "cell_type": "code",
   "execution_count": null,
   "id": "e8f5a045-3a9b-49e6-8bc6-733e911c5a05",
   "metadata": {},
   "outputs": [],
   "source": [
    "Q3. You have a Pandas DataFrame df with a column named 'Values'. Write a Python function that\n",
    "iterates over the DataFrame and calculates the sum of the first three values in the 'Values' column. The\n",
    "function should print the sum to the console."
   ]
  },
  {
   "cell_type": "code",
   "execution_count": 15,
   "id": "cc3897ef-ec42-4599-bb7d-366e7aa2f303",
   "metadata": {},
   "outputs": [
    {
     "name": "stdout",
     "output_type": "stream",
     "text": [
      "The sum of the first three values in the 'Values' column is: 60\n"
     ]
    }
   ],
   "source": [
    "import pandas as pd\n",
    "def sumofvalues(df1):\n",
    "    if 'Values' not in df.columns:\n",
    "        print(\"DataFrame does not have a 'Values' column.\")\n",
    "        return\n",
    "    \n",
    "    sum_values = df['Values'].iloc[:3].sum()\n",
    "    \n",
    "    print(f\"The sum of the first three values in the 'Values' column is: {sum_values}\")\n",
    "data1 = {'Values': [10, 20, 30, 40, 50]}\n",
    "df1=pd.DataFrame(data1)\n",
    "\n",
    "sumofvalues(df1)"
   ]
  },
  {
   "cell_type": "code",
   "execution_count": null,
   "id": "222a960e-1030-4b32-a38e-48eb64dd6772",
   "metadata": {},
   "outputs": [],
   "source": [
    "Q4. Given a Pandas DataFrame df with a column 'Text', write a Python function to create a new column\n",
    "'Word_Count' that contains the number of words in each row of the 'Text' column."
   ]
  },
  {
   "cell_type": "code",
   "execution_count": 16,
   "id": "8548a941-5a99-45c1-8b88-30091a32640f",
   "metadata": {},
   "outputs": [
    {
     "data": {
      "text/html": [
       "<div>\n",
       "<style scoped>\n",
       "    .dataframe tbody tr th:only-of-type {\n",
       "        vertical-align: middle;\n",
       "    }\n",
       "\n",
       "    .dataframe tbody tr th {\n",
       "        vertical-align: top;\n",
       "    }\n",
       "\n",
       "    .dataframe thead th {\n",
       "        text-align: right;\n",
       "    }\n",
       "</style>\n",
       "<table border=\"1\" class=\"dataframe\">\n",
       "  <thead>\n",
       "    <tr style=\"text-align: right;\">\n",
       "      <th></th>\n",
       "      <th>Text</th>\n",
       "      <th>Word_Count</th>\n",
       "    </tr>\n",
       "  </thead>\n",
       "  <tbody>\n",
       "    <tr>\n",
       "      <th>0</th>\n",
       "      <td>This</td>\n",
       "      <td>1</td>\n",
       "    </tr>\n",
       "    <tr>\n",
       "      <th>1</th>\n",
       "      <td>sentence</td>\n",
       "      <td>1</td>\n",
       "    </tr>\n",
       "    <tr>\n",
       "      <th>2</th>\n",
       "      <td>book</td>\n",
       "      <td>1</td>\n",
       "    </tr>\n",
       "  </tbody>\n",
       "</table>\n",
       "</div>"
      ],
      "text/plain": [
       "        Text  Word_Count\n",
       "0      This            1\n",
       "1  sentence            1\n",
       "2       book           1"
      ]
     },
     "execution_count": 16,
     "metadata": {},
     "output_type": "execute_result"
    }
   ],
   "source": [
    "import pandas as pd\n",
    "def add_word_count_column(df):\n",
    "    if 'Text' not in df.columns:\n",
    "        print(\"DataFrame does not have a 'Text' column.\")\n",
    "        return df\n",
    "    df['Word_Count'] = df['Text'].apply(lambda x: len(str(x).split()))\n",
    "    \n",
    "    return df\n",
    "\n",
    "data = {'Text': ['This ', 'sentence ', 'book']}\n",
    "df = pd.DataFrame(data)\n",
    "df = add_word_count_column(df)\n",
    "df\n"
   ]
  },
  {
   "cell_type": "code",
   "execution_count": null,
   "id": "c37af616-12db-4d73-9df1-aeb48802c1b3",
   "metadata": {},
   "outputs": [],
   "source": [
    "Q5. How are DataFrame.size() and DataFrame.shape() different?"
   ]
  },
  {
   "cell_type": "code",
   "execution_count": 2,
   "id": "46f542f2-5714-4de7-a524-b4b67aa6c37c",
   "metadata": {},
   "outputs": [
    {
     "data": {
      "text/plain": [
       "3"
      ]
     },
     "execution_count": 2,
     "metadata": {},
     "output_type": "execute_result"
    }
   ],
   "source": [
    "s = pd.Series({'a': 1, 'b': 2, 'c': 3})\n",
    "s.size"
   ]
  },
  {
   "cell_type": "code",
   "execution_count": null,
   "id": "08428bad-2c5b-4aae-89ce-5b5f9488a924",
   "metadata": {},
   "outputs": [],
   "source": [
    "Pandas Size Function\n",
    "The size property is used to get an int representing the number of elements in this object and Return the number of \n",
    "rows if Series.\n",
    "Otherwise, return the number of rows times the number of columns if DataFrame\n",
    "rows X column"
   ]
  },
  {
   "cell_type": "code",
   "execution_count": null,
   "id": "ec5c3865-36f9-4e25-aef8-ef070e3b98b9",
   "metadata": {},
   "outputs": [],
   "source": [
    "gives the dimensions of the DataFrame as a tuple"
   ]
  },
  {
   "cell_type": "code",
   "execution_count": 8,
   "id": "06d7561c-c889-409b-8c93-438ca535d339",
   "metadata": {},
   "outputs": [
    {
     "name": "stdout",
     "output_type": "stream",
     "text": [
      "(3, 4)\n"
     ]
    }
   ],
   "source": [
    "import pandas as pd\n",
    "df = pd.DataFrame({\n",
    "    'A': [1, 2, 3],\n",
    "    'B': [4, 5, 6],\n",
    "    'C': [7, 8, 9],\n",
    "    'D': [10, 11, 12]  \n",
    "})\n",
    "print(df.shape)  "
   ]
  },
  {
   "cell_type": "code",
   "execution_count": null,
   "id": "03ee17fb-13c5-4ca2-a19c-ea1f5d173f4b",
   "metadata": {},
   "outputs": [],
   "source": [
    "Q6. Which function of pandas do we use to read an excel file?"
   ]
  },
  {
   "cell_type": "code",
   "execution_count": null,
   "id": "7ac96886-2522-4770-a225-6a089a886128",
   "metadata": {},
   "outputs": [],
   "source": [
    " pd.read_excel() This function allows us read data from Excel files into a pandas DataFrame."
   ]
  },
  {
   "cell_type": "code",
   "execution_count": null,
   "id": "465e1a70-ed66-4835-a464-92dc54a7b8fd",
   "metadata": {},
   "outputs": [],
   "source": [
    "import pandas as pd\n",
    "df = pd.read_excel('services.xlsx')\n",
    "print(df)"
   ]
  },
  {
   "cell_type": "code",
   "execution_count": null,
   "id": "34382764-5c50-497c-bf16-d8afb5b56d85",
   "metadata": {},
   "outputs": [],
   "source": [
    "Q7. You have a Pandas DataFrame df that contains a column named 'Email' that contains email\n",
    "addresses in the format 'username@domain.com'. Write a Python function that creates a new column\n",
    "'Username' in df that contains only the username part of each email address."
   ]
  },
  {
   "cell_type": "code",
   "execution_count": 12,
   "id": "148c1b77-fa40-4187-a1cb-fff75ad11011",
   "metadata": {},
   "outputs": [],
   "source": [
    "import pandas as pd\n",
    "def username(df):\n",
    "    df['Username'] = df['Email'].str.split('@').str[0]\n",
    "    return df\n",
    "df = pd.DataFrame({'Email': ['alice@example.com', 'bob@domain.com', 'charlie@anotherdomain.com']})\n"
   ]
  },
  {
   "cell_type": "code",
   "execution_count": 13,
   "id": "3262a5d8-6251-4c4a-9320-8604ac5bd6ae",
   "metadata": {},
   "outputs": [
    {
     "data": {
      "text/html": [
       "<div>\n",
       "<style scoped>\n",
       "    .dataframe tbody tr th:only-of-type {\n",
       "        vertical-align: middle;\n",
       "    }\n",
       "\n",
       "    .dataframe tbody tr th {\n",
       "        vertical-align: top;\n",
       "    }\n",
       "\n",
       "    .dataframe thead th {\n",
       "        text-align: right;\n",
       "    }\n",
       "</style>\n",
       "<table border=\"1\" class=\"dataframe\">\n",
       "  <thead>\n",
       "    <tr style=\"text-align: right;\">\n",
       "      <th></th>\n",
       "      <th>Email</th>\n",
       "    </tr>\n",
       "  </thead>\n",
       "  <tbody>\n",
       "    <tr>\n",
       "      <th>0</th>\n",
       "      <td>alice@example.com</td>\n",
       "    </tr>\n",
       "    <tr>\n",
       "      <th>1</th>\n",
       "      <td>bob@domain.com</td>\n",
       "    </tr>\n",
       "    <tr>\n",
       "      <th>2</th>\n",
       "      <td>charlie@anotherdomain.com</td>\n",
       "    </tr>\n",
       "  </tbody>\n",
       "</table>\n",
       "</div>"
      ],
      "text/plain": [
       "                       Email\n",
       "0          alice@example.com\n",
       "1             bob@domain.com\n",
       "2  charlie@anotherdomain.com"
      ]
     },
     "execution_count": 13,
     "metadata": {},
     "output_type": "execute_result"
    }
   ],
   "source": [
    "df"
   ]
  },
  {
   "cell_type": "code",
   "execution_count": null,
   "id": "0668cbfb-9f37-4e17-9c82-59541e2cb1fb",
   "metadata": {},
   "outputs": [],
   "source": [
    "Q8. You have a Pandas DataFrame df with columns 'A', 'B', and 'C'. Write a Python function that selects\n",
    "all rows where the value in column 'A' is greater than 5 and the value in column 'B' is less than 10. The\n",
    "function should return a new DataFrame that contains only the selected rows.\n",
    "For example, if df contains the following values:\n",
    "A B C\n",
    "0 3 5 1\n",
    "1 8 2 7\n",
    "2 6 9 4\n",
    "3 2 3 5\n",
    "4 9 1 2\n",
    "Your function should select the following rows: A B C\n",
    "1 8 2 7\n",
    "4 9 1 2\n",
    "The function should return a new DataFrame that contains only the selected rows."
   ]
  },
  {
   "cell_type": "code",
   "execution_count": 16,
   "id": "f600490f-c15d-4d9a-be1f-f717a53f9d6d",
   "metadata": {},
   "outputs": [],
   "source": [
    "import pandas as pd\n",
    "\n",
    "def new_df(df):\n",
    "    newdf = df[(df['A'] > 5) & (df['B'] < 10)]\n",
    "    return newdf\n",
    "\n",
    "d = pd.DataFrame({\n",
    "    'A': [3, 8, 6, 2, 9],\n",
    "    'B': [5, 2, 9, 3, 1],\n",
    "    'C': [1, 7, 4, 5, 2]\n",
    "})\n",
    "ans=new_df(d)"
   ]
  },
  {
   "cell_type": "code",
   "execution_count": 17,
   "id": "09899c07-7b1c-4a52-b36e-12e92d17d418",
   "metadata": {},
   "outputs": [
    {
     "data": {
      "text/html": [
       "<div>\n",
       "<style scoped>\n",
       "    .dataframe tbody tr th:only-of-type {\n",
       "        vertical-align: middle;\n",
       "    }\n",
       "\n",
       "    .dataframe tbody tr th {\n",
       "        vertical-align: top;\n",
       "    }\n",
       "\n",
       "    .dataframe thead th {\n",
       "        text-align: right;\n",
       "    }\n",
       "</style>\n",
       "<table border=\"1\" class=\"dataframe\">\n",
       "  <thead>\n",
       "    <tr style=\"text-align: right;\">\n",
       "      <th></th>\n",
       "      <th>A</th>\n",
       "      <th>B</th>\n",
       "      <th>C</th>\n",
       "    </tr>\n",
       "  </thead>\n",
       "  <tbody>\n",
       "    <tr>\n",
       "      <th>1</th>\n",
       "      <td>8</td>\n",
       "      <td>2</td>\n",
       "      <td>7</td>\n",
       "    </tr>\n",
       "    <tr>\n",
       "      <th>2</th>\n",
       "      <td>6</td>\n",
       "      <td>9</td>\n",
       "      <td>4</td>\n",
       "    </tr>\n",
       "    <tr>\n",
       "      <th>4</th>\n",
       "      <td>9</td>\n",
       "      <td>1</td>\n",
       "      <td>2</td>\n",
       "    </tr>\n",
       "  </tbody>\n",
       "</table>\n",
       "</div>"
      ],
      "text/plain": [
       "   A  B  C\n",
       "1  8  2  7\n",
       "2  6  9  4\n",
       "4  9  1  2"
      ]
     },
     "execution_count": 17,
     "metadata": {},
     "output_type": "execute_result"
    }
   ],
   "source": [
    "ans"
   ]
  },
  {
   "cell_type": "code",
   "execution_count": null,
   "id": "56a4ab78-5269-4245-9e24-96ccc9e91249",
   "metadata": {},
   "outputs": [],
   "source": [
    "Q9. Given a Pandas DataFrame df with a column 'Values', write a Python function to calculate the mean,\n",
    "median, and standard deviation of the values in the 'Values' column."
   ]
  },
  {
   "cell_type": "code",
   "execution_count": 18,
   "id": "ef7ec313-2869-4426-9316-0bde472d0a4d",
   "metadata": {},
   "outputs": [],
   "source": [
    "import pandas as pd\n",
    "def calculate(df):\n",
    "    mean_value = df['Values'].mean()\n",
    "    median_value = df['Values'].median()\n",
    "    std_deviation = df['Values'].std()\n",
    "    return mean_value, median_value, std_deviation\n",
    "    \n",
    "df=pd.DataFrame({'Values':[1,2,3,4,5,6,7,8]})\n",
    "ans=calculate(df)"
   ]
  },
  {
   "cell_type": "code",
   "execution_count": 19,
   "id": "8f6a0e7d-a1b2-4265-a81a-f18dde2794f1",
   "metadata": {},
   "outputs": [
    {
     "data": {
      "text/plain": [
       "(4.5, 4.5, 2.449489742783178)"
      ]
     },
     "execution_count": 19,
     "metadata": {},
     "output_type": "execute_result"
    }
   ],
   "source": [
    "ans"
   ]
  },
  {
   "cell_type": "code",
   "execution_count": null,
   "id": "0c71d8d8-27d9-429a-a79c-5013b9cf13e9",
   "metadata": {},
   "outputs": [],
   "source": [
    "Q10. Given a Pandas DataFrame df with a column 'Sales' and a column 'Date', write a Python function to\n",
    "create a new column 'MovingAverage' that contains the moving average of the sales for the past 7 days\n",
    "for each row in the DataFrame. The moving average should be calculated using a window of size 7 and\n",
    "should include the current day."
   ]
  },
  {
   "cell_type": "code",
   "execution_count": 24,
   "id": "ab046395-45e9-4ab3-8ef3-64bd686b7d80",
   "metadata": {},
   "outputs": [
    {
     "data": {
      "text/html": [
       "<div>\n",
       "<style scoped>\n",
       "    .dataframe tbody tr th:only-of-type {\n",
       "        vertical-align: middle;\n",
       "    }\n",
       "\n",
       "    .dataframe tbody tr th {\n",
       "        vertical-align: top;\n",
       "    }\n",
       "\n",
       "    .dataframe thead th {\n",
       "        text-align: right;\n",
       "    }\n",
       "</style>\n",
       "<table border=\"1\" class=\"dataframe\">\n",
       "  <thead>\n",
       "    <tr style=\"text-align: right;\">\n",
       "      <th></th>\n",
       "      <th>Date</th>\n",
       "      <th>Sales</th>\n",
       "      <th>MovingAverage</th>\n",
       "    </tr>\n",
       "  </thead>\n",
       "  <tbody>\n",
       "    <tr>\n",
       "      <th>0</th>\n",
       "      <td>2023-01-01</td>\n",
       "      <td>150</td>\n",
       "      <td>150.0</td>\n",
       "    </tr>\n",
       "    <tr>\n",
       "      <th>1</th>\n",
       "      <td>2023-01-02</td>\n",
       "      <td>200</td>\n",
       "      <td>175.0</td>\n",
       "    </tr>\n",
       "    <tr>\n",
       "      <th>2</th>\n",
       "      <td>2023-01-03</td>\n",
       "      <td>250</td>\n",
       "      <td>200.0</td>\n",
       "    </tr>\n",
       "    <tr>\n",
       "      <th>3</th>\n",
       "      <td>2023-01-04</td>\n",
       "      <td>300</td>\n",
       "      <td>225.0</td>\n",
       "    </tr>\n",
       "    <tr>\n",
       "      <th>4</th>\n",
       "      <td>2023-01-05</td>\n",
       "      <td>350</td>\n",
       "      <td>250.0</td>\n",
       "    </tr>\n",
       "  </tbody>\n",
       "</table>\n",
       "</div>"
      ],
      "text/plain": [
       "         Date  Sales  MovingAverage\n",
       "0  2023-01-01    150          150.0\n",
       "1  2023-01-02    200          175.0\n",
       "2  2023-01-03    250          200.0\n",
       "3  2023-01-04    300          225.0\n",
       "4  2023-01-05    350          250.0"
      ]
     },
     "execution_count": 24,
     "metadata": {},
     "output_type": "execute_result"
    }
   ],
   "source": [
    "import pandas as pd\n",
    "def newcol(df):\n",
    "    df['Date'] = pd.to_datetime(df['Date'])\n",
    "    df = df.sort_values('Date')\n",
    "    df['MovingAverage'] = df['Sales'].rolling(7,1).mean()\n",
    "    \n",
    "    return df\n",
    "    \n",
    "df = pd.DataFrame({\n",
    "    'Date': ['2023-01-01', '2023-01-02', '2023-01-03', '2023-01-04', '2023-01-05'],\n",
    "    'Sales': [150, 200, 250, 300, 350]\n",
    "})\n",
    "ans=newcol(df)\n",
    "ans"
   ]
  },
  {
   "cell_type": "code",
   "execution_count": null,
   "id": "ebbe14da-bc64-466b-84ff-687828c2d75c",
   "metadata": {},
   "outputs": [],
   "source": [
    "Q11. You have a Pandas DataFrame df with a column 'Date'. Write a Python function that creates a new\n",
    "column 'Weekday' in the DataFrame. The 'Weekday' column should contain the weekday name (e.g.\n",
    "Monday, Tuesday) corresponding to each date in the 'Date' column.\n",
    "For example, if df contains the following values:\n",
    "Date\n",
    "0 2023-01-01\n",
    "1 2023-01-02\n",
    "2 2023-01-03\n",
    "3 2023-01-04\n",
    "4 2023-01-05\n",
    "Your function should create the following DataFrame:\n",
    "    Date Weekday\n",
    "0 2023-01-01 Sunday\n",
    "1 2023-01-02 Monday\n",
    "2 2023-01-03 Tuesday\n",
    "3 2023-01-04 Wednesday\n",
    "4 2023-01-05 Thursday\n",
    "The function should return the modified DataFrame."
   ]
  },
  {
   "cell_type": "code",
   "execution_count": 28,
   "id": "01e111f7-acc5-4b9e-a5a2-c94a41c9edc1",
   "metadata": {},
   "outputs": [
    {
     "name": "stdout",
     "output_type": "stream",
     "text": [
      "        Date    Weekday\n",
      "0 2023-01-01     Sunday\n",
      "1 2023-01-02     Monday\n",
      "2 2023-01-03    Tuesday\n",
      "3 2023-01-04  Wednesday\n",
      "4 2023-01-05   Thursday\n",
      "5 2023-01-06     Friday\n",
      "6 2023-01-07   Saturday\n"
     ]
    }
   ],
   "source": [
    "import pandas as pd\n",
    "\n",
    "def add_weekday_column(df):\n",
    "    df['Date'] = pd.to_datetime(df['Date'])\n",
    "    df['Weekday'] = df['Date'].dt.day_name()\n",
    "    \n",
    "    return df\n",
    "data = {\n",
    "    'Date': ['2023-01-01', '2023-01-02', '2023-01-03', '2023-01-04', '2023-01-05', '2023-01-06', '2023-01-07']\n",
    "}\n",
    "df = pd.DataFrame(data)\n",
    "df = add_weekday_column(df)\n",
    "print(df)\n"
   ]
  },
  {
   "cell_type": "code",
   "execution_count": null,
   "id": "c35be1d7-f8c3-4eb4-9df3-c9a2fd6c94ba",
   "metadata": {},
   "outputs": [],
   "source": [
    "Q12. Given a Pandas DataFrame df with a column 'Date' that contains timestamps, write a Python\n",
    "function to select all rows where the date is between '2023-01-01' and '2023-01-31'."
   ]
  },
  {
   "cell_type": "code",
   "execution_count": 30,
   "id": "01029ead-6a52-421d-8c0e-b4f55083e729",
   "metadata": {},
   "outputs": [
    {
     "data": {
      "text/html": [
       "<div>\n",
       "<style scoped>\n",
       "    .dataframe tbody tr th:only-of-type {\n",
       "        vertical-align: middle;\n",
       "    }\n",
       "\n",
       "    .dataframe tbody tr th {\n",
       "        vertical-align: top;\n",
       "    }\n",
       "\n",
       "    .dataframe thead th {\n",
       "        text-align: right;\n",
       "    }\n",
       "</style>\n",
       "<table border=\"1\" class=\"dataframe\">\n",
       "  <thead>\n",
       "    <tr style=\"text-align: right;\">\n",
       "      <th></th>\n",
       "      <th>Date</th>\n",
       "    </tr>\n",
       "  </thead>\n",
       "  <tbody>\n",
       "    <tr>\n",
       "      <th>0</th>\n",
       "      <td>2023-01-01</td>\n",
       "    </tr>\n",
       "    <tr>\n",
       "      <th>1</th>\n",
       "      <td>2023-01-02</td>\n",
       "    </tr>\n",
       "    <tr>\n",
       "      <th>2</th>\n",
       "      <td>2023-01-03</td>\n",
       "    </tr>\n",
       "    <tr>\n",
       "      <th>3</th>\n",
       "      <td>2023-01-04</td>\n",
       "    </tr>\n",
       "    <tr>\n",
       "      <th>4</th>\n",
       "      <td>2023-01-05</td>\n",
       "    </tr>\n",
       "  </tbody>\n",
       "</table>\n",
       "</div>"
      ],
      "text/plain": [
       "         Date\n",
       "0  2023-01-01\n",
       "1  2023-01-02\n",
       "2  2023-01-03\n",
       "3  2023-01-04\n",
       "4  2023-01-05"
      ]
     },
     "execution_count": 30,
     "metadata": {},
     "output_type": "execute_result"
    }
   ],
   "source": [
    "import pandas as pd\n",
    "def week(df):\n",
    "    days = df['Date'].between('2023-01-01', '2023-01-31')\n",
    "    filtered_df = df[days]\n",
    "    \n",
    "    return filtered_df\n",
    "    \n",
    "df = pd.DataFrame({\n",
    "    'Date': ['2023-01-01', '2023-01-02', '2023-01-03', '2023-01-04', '2023-01-05']\n",
    "})\n",
    "ans=week(df)\n",
    "ans"
   ]
  },
  {
   "cell_type": "code",
   "execution_count": null,
   "id": "148905a8-e9d3-433d-b868-0fb9f5c4b107",
   "metadata": {},
   "outputs": [],
   "source": [
    "Q13. To use the basic functions of pandas, what is the first and foremost necessary library that needs to\n",
    "be imported?"
   ]
  },
  {
   "cell_type": "code",
   "execution_count": null,
   "id": "ef1779f0-6929-48bf-8636-3e6f1a9a3dcc",
   "metadata": {},
   "outputs": [],
   "source": [
    "pandas"
   ]
  },
  {
   "cell_type": "code",
   "execution_count": 31,
   "id": "08f227ef-22d8-4f6c-a083-75216292c111",
   "metadata": {},
   "outputs": [],
   "source": [
    "import pandas as pd\n"
   ]
  },
  {
   "cell_type": "code",
   "execution_count": null,
   "id": "767666cc-2cec-4b70-8c0f-5ccaa3793885",
   "metadata": {},
   "outputs": [],
   "source": []
  }
 ],
 "metadata": {
  "kernelspec": {
   "display_name": "Python 3 (ipykernel)",
   "language": "python",
   "name": "python3"
  },
  "language_info": {
   "codemirror_mode": {
    "name": "ipython",
    "version": 3
   },
   "file_extension": ".py",
   "mimetype": "text/x-python",
   "name": "python",
   "nbconvert_exporter": "python",
   "pygments_lexer": "ipython3",
   "version": "3.10.8"
  }
 },
 "nbformat": 4,
 "nbformat_minor": 5
}
